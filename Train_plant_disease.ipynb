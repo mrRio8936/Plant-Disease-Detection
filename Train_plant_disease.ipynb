{
 "cells": [
  {
   "cell_type": "code",
   "execution_count": 1,
   "id": "447d8ea2",
   "metadata": {},
   "outputs": [],
   "source": [
    "import tensorflow as tf\n",
    "import matplotlib.pyplot as plt\n",
    "import pandas as pd\n",
    "import seaborn as sns"
   ]
  },
  {
   "cell_type": "code",
   "execution_count": 2,
   "id": "d8458876",
   "metadata": {},
   "outputs": [
    {
     "name": "stdout",
     "output_type": "stream",
     "text": [
      "Found 70295 files belonging to 38 classes.\n"
     ]
    }
   ],
   "source": [
    "training_set = tf.keras.utils.image_dataset_from_directory(\n",
    "    'train',\n",
    "    labels=\"inferred\",\n",
    "    label_mode=\"categorical\",\n",
    "    class_names=None,\n",
    "    color_mode=\"rgb\",\n",
    "    batch_size=32,\n",
    "    image_size=(128, 128),\n",
    "    shuffle=True,\n",
    "    seed=None,\n",
    "    validation_split=None,\n",
    "    subset=None,\n",
    "    interpolation=\"bilinear\",\n",
    "    follow_links=False,\n",
    "    crop_to_aspect_ratio=False\n",
    ")"
   ]
  },
  {
   "cell_type": "code",
   "execution_count": 3,
   "id": "255b10f2",
   "metadata": {},
   "outputs": [
    {
     "name": "stdout",
     "output_type": "stream",
     "text": [
      "Found 17572 files belonging to 38 classes.\n"
     ]
    }
   ],
   "source": [
    " validation_set= tf.keras.utils.image_dataset_from_directory(\n",
    "    'valid',\n",
    "    labels=\"inferred\",\n",
    "    label_mode=\"categorical\",\n",
    "    class_names=None,\n",
    "    color_mode=\"rgb\",\n",
    "    batch_size=32,\n",
    "    image_size=(128, 128),\n",
    "    shuffle=True,\n",
    "    seed=None,\n",
    "    validation_split=None,\n",
    "    subset=None,\n",
    "    interpolation=\"bilinear\",\n",
    "    follow_links=False,\n",
    "    crop_to_aspect_ratio=False\n",
    ")"
   ]
  },
  {
   "cell_type": "code",
   "execution_count": 4,
   "id": "0986d810",
   "metadata": {},
   "outputs": [
    {
     "name": "stdout",
     "output_type": "stream",
     "text": [
      "tf.Tensor(\n",
      "[[[[172.25 217.25 158.25]\n",
      "   [169.75 214.75 159.75]\n",
      "   [167.75 211.75 160.75]\n",
      "   ...\n",
      "   [163.75 202.75 155.75]\n",
      "   [163.25 202.25 157.25]\n",
      "   [166.25 205.25 161.25]]\n",
      "\n",
      "  [[166.   211.   152.  ]\n",
      "   [169.   214.   158.5 ]\n",
      "   [167.   211.   159.5 ]\n",
      "   ...\n",
      "   [163.25 202.25 155.25]\n",
      "   [162.   201.   156.  ]\n",
      "   [163.25 202.25 158.25]]\n",
      "\n",
      "  [[160.5  205.5  146.5 ]\n",
      "   [161.25 206.25 149.75]\n",
      "   [161.75 205.75 153.25]\n",
      "   ...\n",
      "   [167.   206.   161.  ]\n",
      "   [165.   204.   160.  ]\n",
      "   [163.75 202.75 158.75]]\n",
      "\n",
      "  ...\n",
      "\n",
      "  [[175.25 209.25 172.25]\n",
      "   [173.   207.   170.  ]\n",
      "   [169.75 203.75 166.75]\n",
      "   ...\n",
      "   [134.75 181.5  114.25]\n",
      "   [133.75 180.75 112.75]\n",
      "   [135.5  182.5  114.5 ]]\n",
      "\n",
      "  [[171.   205.   168.  ]\n",
      "   [171.25 205.25 168.25]\n",
      "   [171.5  205.5  168.5 ]\n",
      "   ...\n",
      "   [133.75 180.75 112.75]\n",
      "   [138.   185.   115.  ]\n",
      "   [142.   189.   119.  ]]\n",
      "\n",
      "  [[170.75 204.75 167.75]\n",
      "   [170.25 204.25 167.25]\n",
      "   [169.25 203.25 166.25]\n",
      "   ...\n",
      "   [140.75 187.75 117.75]\n",
      "   [143.25 190.25 120.25]\n",
      "   [141.   188.   116.  ]]]\n",
      "\n",
      "\n",
      " [[[190.5  184.5  196.5 ]\n",
      "   [182.   176.   188.  ]\n",
      "   [191.   185.   197.  ]\n",
      "   ...\n",
      "   [192.25 189.25 200.25]\n",
      "   [191.   188.   199.  ]\n",
      "   [192.5  189.5  200.5 ]]\n",
      "\n",
      "  [[175.25 169.25 181.25]\n",
      "   [182.75 176.75 188.75]\n",
      "   [191.75 185.75 197.75]\n",
      "   ...\n",
      "   [185.25 182.25 193.25]\n",
      "   [186.25 183.25 194.25]\n",
      "   [196.75 193.75 204.75]]\n",
      "\n",
      "  [[179.5  173.5  185.5 ]\n",
      "   [183.5  177.5  189.5 ]\n",
      "   [184.25 178.25 190.25]\n",
      "   ...\n",
      "   [190.   187.   198.  ]\n",
      "   [194.5  191.5  202.5 ]\n",
      "   [196.25 193.25 204.25]]\n",
      "\n",
      "  ...\n",
      "\n",
      "  [[160.75 152.75 163.75]\n",
      "   [153.5  145.5  156.5 ]\n",
      "   [159.25 151.25 162.25]\n",
      "   ...\n",
      "   [156.5  150.5  162.5 ]\n",
      "   [170.75 164.75 176.75]\n",
      "   [152.   146.   158.  ]]\n",
      "\n",
      "  [[167.   159.   170.  ]\n",
      "   [156.75 148.75 159.75]\n",
      "   [153.   145.   156.  ]\n",
      "   ...\n",
      "   [159.5  153.5  165.5 ]\n",
      "   [154.75 148.75 160.75]\n",
      "   [160.25 154.25 166.25]]\n",
      "\n",
      "  [[149.   141.   152.  ]\n",
      "   [155.   147.   158.  ]\n",
      "   [147.   139.   150.  ]\n",
      "   ...\n",
      "   [175.5  169.5  181.5 ]\n",
      "   [179.5  173.5  185.5 ]\n",
      "   [153.75 147.75 159.75]]]\n",
      "\n",
      "\n",
      " [[[  0.     0.     0.  ]\n",
      "   [  0.     0.     0.  ]\n",
      "   [  0.     0.     0.  ]\n",
      "   ...\n",
      "   [  0.     0.     0.  ]\n",
      "   [  0.     0.     0.  ]\n",
      "   [  0.     0.     0.  ]]\n",
      "\n",
      "  [[  0.     0.     0.  ]\n",
      "   [  0.     0.     0.  ]\n",
      "   [  0.     0.     0.  ]\n",
      "   ...\n",
      "   [  0.     0.     0.  ]\n",
      "   [  0.     0.     0.  ]\n",
      "   [  0.     0.     0.  ]]\n",
      "\n",
      "  [[  0.     0.     0.  ]\n",
      "   [  0.     0.     0.  ]\n",
      "   [  0.     0.     0.  ]\n",
      "   ...\n",
      "   [  0.     0.     0.  ]\n",
      "   [  0.     0.     0.  ]\n",
      "   [  0.     0.     0.  ]]\n",
      "\n",
      "  ...\n",
      "\n",
      "  [[  0.     0.     0.  ]\n",
      "   [  0.     0.     0.  ]\n",
      "   [  0.     0.     0.  ]\n",
      "   ...\n",
      "   [  0.     0.     0.  ]\n",
      "   [  0.     0.     0.  ]\n",
      "   [  0.     0.     0.  ]]\n",
      "\n",
      "  [[  0.     0.     0.  ]\n",
      "   [  0.     0.     0.  ]\n",
      "   [  0.     0.     0.  ]\n",
      "   ...\n",
      "   [  0.     0.     0.  ]\n",
      "   [  0.     0.     0.  ]\n",
      "   [  0.     0.     0.  ]]\n",
      "\n",
      "  [[  0.     0.     0.  ]\n",
      "   [  0.     0.     0.  ]\n",
      "   [  0.     0.     0.  ]\n",
      "   ...\n",
      "   [  0.     0.     0.  ]\n",
      "   [  0.     0.     0.  ]\n",
      "   [  0.     0.     0.  ]]]\n",
      "\n",
      "\n",
      " ...\n",
      "\n",
      "\n",
      " [[[255.   255.   255.  ]\n",
      "   [255.   255.   255.  ]\n",
      "   [255.   255.   255.  ]\n",
      "   ...\n",
      "   [253.75 253.75 254.75]\n",
      "   [255.   255.   255.  ]\n",
      "   [254.5  254.5  255.  ]]\n",
      "\n",
      "  [[255.   255.   255.  ]\n",
      "   [255.   255.   255.  ]\n",
      "   [255.   255.   255.  ]\n",
      "   ...\n",
      "   [250.25 250.25 252.  ]\n",
      "   [251.75 251.75 252.75]\n",
      "   [250.25 250.25 251.25]]\n",
      "\n",
      "  [[255.   255.   255.  ]\n",
      "   [255.   255.   255.  ]\n",
      "   [255.   255.   255.  ]\n",
      "   ...\n",
      "   [254.5  254.5  255.  ]\n",
      "   [251.5  251.5  253.  ]\n",
      "   [252.25 252.25 252.75]]\n",
      "\n",
      "  ...\n",
      "\n",
      "  [[243.5  240.   244.  ]\n",
      "   [251.75 247.5  252.5 ]\n",
      "   [251.5  248.75 251.75]\n",
      "   ...\n",
      "   [249.5  244.5  248.5 ]\n",
      "   [254.   247.75 254.  ]\n",
      "   [255.   250.75 255.  ]]\n",
      "\n",
      "  [[242.75 238.5  243.5 ]\n",
      "   [250.5  247.   251.  ]\n",
      "   [255.   251.75 255.  ]\n",
      "   ...\n",
      "   [254.5  251.   254.25]\n",
      "   [249.75 242.75 249.75]\n",
      "   [247.75 237.75 246.75]]\n",
      "\n",
      "  [[251.25 248.   251.5 ]\n",
      "   [241.5  237.25 242.25]\n",
      "   [247.5  244.   248.  ]\n",
      "   ...\n",
      "   [252.25 248.25 250.  ]\n",
      "   [245.25 238.25 245.25]\n",
      "   [249.25 240.   248.5 ]]]\n",
      "\n",
      "\n",
      " [[[104.25  98.25 102.25]\n",
      "   [104.5   98.5  102.5 ]\n",
      "   [100.    94.    98.  ]\n",
      "   ...\n",
      "   [145.   141.   142.  ]\n",
      "   [145.25 141.25 142.25]\n",
      "   [143.   139.   140.  ]]\n",
      "\n",
      "  [[102.25  96.25 100.25]\n",
      "   [109.   103.   107.  ]\n",
      "   [108.75 102.75 106.75]\n",
      "   ...\n",
      "   [144.   140.   141.  ]\n",
      "   [145.75 141.75 142.75]\n",
      "   [146.5  142.5  143.5 ]]\n",
      "\n",
      "  [[102.5   96.5  100.5 ]\n",
      "   [100.75  94.75  98.75]\n",
      "   [ 98.75  92.75  96.75]\n",
      "   ...\n",
      "   [140.25 136.25 137.25]\n",
      "   [140.   136.   137.  ]\n",
      "   [140.25 136.25 137.25]]\n",
      "\n",
      "  ...\n",
      "\n",
      "  [[138.75 127.75 135.75]\n",
      "   [137.   126.   134.  ]\n",
      "   [136.   125.   133.  ]\n",
      "   ...\n",
      "   [163.75 148.75 155.75]\n",
      "   [165.75 150.75 157.75]\n",
      "   [166.25 151.25 158.25]]\n",
      "\n",
      "  [[132.75 121.75 129.75]\n",
      "   [138.   127.   135.  ]\n",
      "   [137.5  126.5  134.5 ]\n",
      "   ...\n",
      "   [162.75 147.75 154.75]\n",
      "   [163.75 148.75 155.75]\n",
      "   [164.75 149.75 156.75]]\n",
      "\n",
      "  [[136.5  125.5  133.5 ]\n",
      "   [130.   119.   127.  ]\n",
      "   [130.75 119.75 127.75]\n",
      "   ...\n",
      "   [163.75 148.75 155.75]\n",
      "   [163.75 148.75 155.75]\n",
      "   [163.   148.   155.  ]]]\n",
      "\n",
      "\n",
      " [[[188.   183.   190.  ]\n",
      "   [189.25 184.25 191.25]\n",
      "   [184.75 179.75 186.75]\n",
      "   ...\n",
      "   [195.5  190.5  196.5 ]\n",
      "   [190.5  185.5  191.5 ]\n",
      "   [191.25 186.25 192.25]]\n",
      "\n",
      "  [[178.75 173.75 180.75]\n",
      "   [189.   184.   191.  ]\n",
      "   [184.75 179.75 186.75]\n",
      "   ...\n",
      "   [194.   189.   195.  ]\n",
      "   [194.   189.   195.  ]\n",
      "   [190.75 185.75 191.75]]\n",
      "\n",
      "  [[188.25 183.25 190.25]\n",
      "   [182.75 177.75 184.75]\n",
      "   [190.5  185.5  192.5 ]\n",
      "   ...\n",
      "   [192.5  187.5  193.5 ]\n",
      "   [196.   191.   197.  ]\n",
      "   [196.75 191.75 197.75]]\n",
      "\n",
      "  ...\n",
      "\n",
      "  [[169.75 160.75 163.75]\n",
      "   [171.25 162.25 165.25]\n",
      "   [165.5  156.5  159.5 ]\n",
      "   ...\n",
      "   [173.75 164.75 167.75]\n",
      "   [175.5  166.5  169.5 ]\n",
      "   [180.5  171.5  174.5 ]]\n",
      "\n",
      "  [[172.   163.   166.  ]\n",
      "   [177.75 168.75 171.75]\n",
      "   [173.25 164.25 167.25]\n",
      "   ...\n",
      "   [173.25 164.25 167.25]\n",
      "   [173.   164.   167.  ]\n",
      "   [169.25 160.25 163.25]]\n",
      "\n",
      "  [[180.25 171.25 174.25]\n",
      "   [180.5  171.5  174.5 ]\n",
      "   [174.5  165.5  168.5 ]\n",
      "   ...\n",
      "   [164.   155.   158.  ]\n",
      "   [176.75 167.75 170.75]\n",
      "   [168.25 159.25 162.25]]]], shape=(32, 128, 128, 3), dtype=float32) (32, 128, 128, 3)\n",
      "tf.Tensor(\n",
      "[[0. 0. 0. ... 0. 0. 0.]\n",
      " [0. 0. 0. ... 0. 0. 0.]\n",
      " [0. 0. 0. ... 0. 0. 0.]\n",
      " ...\n",
      " [0. 0. 0. ... 0. 1. 0.]\n",
      " [0. 0. 0. ... 0. 0. 0.]\n",
      " [0. 0. 0. ... 0. 0. 0.]], shape=(32, 38), dtype=float32) (32, 38)\n"
     ]
    }
   ],
   "source": [
    "for x,y in training_set:\n",
    "    print(x,x.shape)\n",
    "    print(y,y.shape)\n",
    "    break"
   ]
  },
  {
   "cell_type": "markdown",
   "id": "72bc6b73",
   "metadata": {},
   "source": [
    "# Building model\n"
   ]
  },
  {
   "cell_type": "code",
   "execution_count": 5,
   "id": "662230e3",
   "metadata": {},
   "outputs": [],
   "source": [
    "from tensorflow.keras.layers import Dense,Conv2D,MaxPool2D,Flatten"
   ]
  },
  {
   "cell_type": "code",
   "execution_count": 6,
   "id": "4bbe6817",
   "metadata": {},
   "outputs": [],
   "source": [
    "from tensorflow.keras.models import Sequential"
   ]
  },
  {
   "cell_type": "code",
   "execution_count": 7,
   "id": "ec9d7b2b",
   "metadata": {},
   "outputs": [],
   "source": [
    "model = Sequential()"
   ]
  },
  {
   "cell_type": "markdown",
   "id": "9622fa5d",
   "metadata": {},
   "source": [
    "# Building convolution layer"
   ]
  },
  {
   "cell_type": "code",
   "execution_count": 8,
   "id": "5737929b",
   "metadata": {},
   "outputs": [],
   "source": [
    "model.add(Conv2D(filters = 32, kernel_size = 3 , padding = \"same\", activation = \"relu\", input_shape = [128,128,3]))\n",
    "model.add(Conv2D(filters = 32, kernel_size = 3 , padding = \"same\", activation = \"relu\"))\n",
    "model.add(MaxPool2D(pool_size = 2, strides = 2))\n",
    "\n"
   ]
  },
  {
   "cell_type": "code",
   "execution_count": 9,
   "id": "e8bd142f",
   "metadata": {},
   "outputs": [],
   "source": [
    "model.add(Conv2D(filters = 64, kernel_size = 3 , padding = \"same\", activation = \"relu\", input_shape = [128,128,3]))\n",
    "model.add(Conv2D(filters = 64, kernel_size = 3 , padding = \"same\", activation = \"relu\"))\n",
    "model.add(MaxPool2D(pool_size = 2, strides = 2))"
   ]
  },
  {
   "cell_type": "code",
   "execution_count": 10,
   "id": "9513eb2c",
   "metadata": {},
   "outputs": [],
   "source": [
    "model.add(Conv2D(filters = 128, kernel_size = 3 , padding = \"same\", activation = \"relu\", input_shape = [128,128,3]))\n",
    "model.add(Conv2D(filters = 128, kernel_size = 3 , padding = \"same\", activation = \"relu\"))\n",
    "model.add(MaxPool2D(pool_size = 2, strides = 2))"
   ]
  },
  {
   "cell_type": "code",
   "execution_count": 11,
   "id": "bfcd3f58",
   "metadata": {},
   "outputs": [],
   "source": [
    "model.add(Conv2D(filters = 256, kernel_size = 3 , padding = \"same\", activation = \"relu\", input_shape = [128,128,3]))\n",
    "model.add(Conv2D(filters = 256, kernel_size = 3 , padding = \"same\", activation = \"relu\"))\n",
    "model.add(MaxPool2D(pool_size = 2, strides = 2))"
   ]
  },
  {
   "cell_type": "code",
   "execution_count": 12,
   "id": "f21f3ce4",
   "metadata": {},
   "outputs": [],
   "source": [
    "model.add(Flatten())"
   ]
  },
  {
   "cell_type": "code",
   "execution_count": 13,
   "id": "6929cfb7",
   "metadata": {},
   "outputs": [],
   "source": [
    "model.add(Dense(units = 1024, activation= 'relu'))"
   ]
  },
  {
   "cell_type": "code",
   "execution_count": 14,
   "id": "07492cdf",
   "metadata": {},
   "outputs": [],
   "source": [
    "# Output layer\n",
    "model.add(Dense(units = 38, activation = 'softmax'))"
   ]
  },
  {
   "cell_type": "markdown",
   "id": "8706c766",
   "metadata": {},
   "source": [
    "# compiling model"
   ]
  },
  {
   "cell_type": "code",
   "execution_count": 15,
   "id": "eeb21e91",
   "metadata": {},
   "outputs": [],
   "source": [
    "model.compile(optimizer=tf.keras.optimizers.legacy.Adam(\n",
    "    learning_rate=0.0001),loss='categorical_crossentropy',metrics=['accuracy'])"
   ]
  },
  {
   "cell_type": "code",
   "execution_count": 16,
   "id": "6387cbc9",
   "metadata": {},
   "outputs": [
    {
     "name": "stdout",
     "output_type": "stream",
     "text": [
      "Model: \"sequential\"\n",
      "_________________________________________________________________\n",
      " Layer (type)                Output Shape              Param #   \n",
      "=================================================================\n",
      " conv2d (Conv2D)             (None, 128, 128, 32)      896       \n",
      "                                                                 \n",
      " conv2d_1 (Conv2D)           (None, 128, 128, 32)      9248      \n",
      "                                                                 \n",
      " max_pooling2d (MaxPooling2D  (None, 64, 64, 32)       0         \n",
      " )                                                               \n",
      "                                                                 \n",
      " conv2d_2 (Conv2D)           (None, 64, 64, 64)        18496     \n",
      "                                                                 \n",
      " conv2d_3 (Conv2D)           (None, 64, 64, 64)        36928     \n",
      "                                                                 \n",
      " max_pooling2d_1 (MaxPooling  (None, 32, 32, 64)       0         \n",
      " 2D)                                                             \n",
      "                                                                 \n",
      " conv2d_4 (Conv2D)           (None, 32, 32, 128)       73856     \n",
      "                                                                 \n",
      " conv2d_5 (Conv2D)           (None, 32, 32, 128)       147584    \n",
      "                                                                 \n",
      " max_pooling2d_2 (MaxPooling  (None, 16, 16, 128)      0         \n",
      " 2D)                                                             \n",
      "                                                                 \n",
      " conv2d_6 (Conv2D)           (None, 16, 16, 256)       295168    \n",
      "                                                                 \n",
      " conv2d_7 (Conv2D)           (None, 16, 16, 256)       590080    \n",
      "                                                                 \n",
      " max_pooling2d_3 (MaxPooling  (None, 8, 8, 256)        0         \n",
      " 2D)                                                             \n",
      "                                                                 \n",
      " flatten (Flatten)           (None, 16384)             0         \n",
      "                                                                 \n",
      " dense (Dense)               (None, 1024)              16778240  \n",
      "                                                                 \n",
      " dense_1 (Dense)             (None, 38)                38950     \n",
      "                                                                 \n",
      "=================================================================\n",
      "Total params: 17,989,446\n",
      "Trainable params: 17,989,446\n",
      "Non-trainable params: 0\n",
      "_________________________________________________________________\n"
     ]
    }
   ],
   "source": [
    "model.summary()"
   ]
  },
  {
   "cell_type": "code",
   "execution_count": 17,
   "id": "2de2a5af",
   "metadata": {},
   "outputs": [
    {
     "name": "stdout",
     "output_type": "stream",
     "text": [
      "Epoch 1/10\n",
      "2197/2197 [==============================] - 4143s 2s/step - loss: 0.7714 - accuracy: 0.7698 - val_loss: 0.3191 - val_accuracy: 0.8967\n",
      "Epoch 2/10\n",
      "2197/2197 [==============================] - 4018s 2s/step - loss: 0.1990 - accuracy: 0.9356 - val_loss: 0.2746 - val_accuracy: 0.9139\n",
      "Epoch 3/10\n",
      "2197/2197 [==============================] - 6291s 3s/step - loss: 0.1086 - accuracy: 0.9632 - val_loss: 0.1839 - val_accuracy: 0.9470\n",
      "Epoch 4/10\n",
      "2197/2197 [==============================] - 3960s 2s/step - loss: 0.0706 - accuracy: 0.9763 - val_loss: 0.1533 - val_accuracy: 0.9547\n",
      "Epoch 5/10\n",
      "2197/2197 [==============================] - 7381s 3s/step - loss: 0.0511 - accuracy: 0.9831 - val_loss: 0.1508 - val_accuracy: 0.9570\n",
      "Epoch 6/10\n",
      "2197/2197 [==============================] - 6170s 3s/step - loss: 0.0462 - accuracy: 0.9847 - val_loss: 0.1663 - val_accuracy: 0.9538\n",
      "Epoch 7/10\n",
      "2197/2197 [==============================] - 4972s 2s/step - loss: 0.0382 - accuracy: 0.9877 - val_loss: 0.1605 - val_accuracy: 0.9570\n",
      "Epoch 8/10\n",
      "2197/2197 [==============================] - 2515s 1s/step - loss: 0.0305 - accuracy: 0.9901 - val_loss: 0.1924 - val_accuracy: 0.9515\n",
      "Epoch 9/10\n",
      "2197/2197 [==============================] - 2499s 1s/step - loss: 0.0298 - accuracy: 0.9905 - val_loss: 0.1997 - val_accuracy: 0.9515\n",
      "Epoch 10/10\n",
      "2197/2197 [==============================] - 2494s 1s/step - loss: 0.0216 - accuracy: 0.9934 - val_loss: 0.1752 - val_accuracy: 0.9618\n"
     ]
    }
   ],
   "source": [
    "training_history = model.fit(x=training_set,validation_data=validation_set,epochs=10)"
   ]
  },
  {
   "cell_type": "code",
   "execution_count": 18,
   "id": "a3acf656",
   "metadata": {},
   "outputs": [],
   "source": [
    "# Model Evaluation\n"
   ]
  },
  {
   "cell_type": "code",
   "execution_count": 19,
   "id": "ec8a48d1",
   "metadata": {},
   "outputs": [
    {
     "name": "stdout",
     "output_type": "stream",
     "text": [
      "2197/2197 [==============================] - 1165s 530ms/step - loss: 0.0137 - accuracy: 0.9953\n"
     ]
    }
   ],
   "source": [
    "train_loss,train_acc = model.evaluate(training_set)"
   ]
  },
  {
   "cell_type": "code",
   "execution_count": 20,
   "id": "29a6be15",
   "metadata": {},
   "outputs": [
    {
     "name": "stdout",
     "output_type": "stream",
     "text": [
      "0.01374992448836565 0.9953054785728455\n"
     ]
    }
   ],
   "source": [
    "print(train_loss, train_acc)"
   ]
  },
  {
   "cell_type": "code",
   "execution_count": 21,
   "id": "bf6ce156",
   "metadata": {},
   "outputs": [
    {
     "name": "stdout",
     "output_type": "stream",
     "text": [
      "550/550 [==============================] - 252s 458ms/step - loss: 0.1752 - accuracy: 0.9618\n"
     ]
    }
   ],
   "source": [
    "# Model on validation set\n",
    "val_loss, val_acc = model.evaluate(validation_set)"
   ]
  },
  {
   "cell_type": "code",
   "execution_count": 22,
   "id": "71ac2b68",
   "metadata": {},
   "outputs": [
    {
     "name": "stdout",
     "output_type": "stream",
     "text": [
      "0.17521990835666656 0.9617573618888855\n"
     ]
    }
   ],
   "source": [
    "print(val_loss, val_acc)"
   ]
  },
  {
   "cell_type": "code",
   "execution_count": 23,
   "id": "15c169af",
   "metadata": {},
   "outputs": [],
   "source": [
    "# Saving model\n"
   ]
  },
  {
   "cell_type": "code",
   "execution_count": 24,
   "id": "eeeb3cfa",
   "metadata": {},
   "outputs": [],
   "source": [
    "model.save(\"trained_model.h5\")"
   ]
  },
  {
   "cell_type": "code",
   "execution_count": 25,
   "id": "f8f3e4b9",
   "metadata": {},
   "outputs": [],
   "source": [
    "model.save(\"trained_model.keras\")"
   ]
  },
  {
   "cell_type": "code",
   "execution_count": 26,
   "id": "55136fed",
   "metadata": {},
   "outputs": [
    {
     "data": {
      "text/plain": [
       "{'loss': [0.7714207768440247,\n",
       "  0.19901898503303528,\n",
       "  0.10855495929718018,\n",
       "  0.07064454257488251,\n",
       "  0.05109383165836334,\n",
       "  0.046187497675418854,\n",
       "  0.03817949444055557,\n",
       "  0.03045140951871872,\n",
       "  0.029830262064933777,\n",
       "  0.0215775016695261],\n",
       " 'accuracy': [0.7698129415512085,\n",
       "  0.9355573058128357,\n",
       "  0.9631552696228027,\n",
       "  0.976314127445221,\n",
       "  0.9831424951553345,\n",
       "  0.9847072958946228,\n",
       "  0.9876662492752075,\n",
       "  0.9900562167167664,\n",
       "  0.9904687404632568,\n",
       "  0.9933565855026245],\n",
       " 'val_loss': [0.3190867006778717,\n",
       "  0.2746177911758423,\n",
       "  0.18386882543563843,\n",
       "  0.15326352417469025,\n",
       "  0.15083886682987213,\n",
       "  0.16626472771167755,\n",
       "  0.1604783684015274,\n",
       "  0.19237232208251953,\n",
       "  0.19968464970588684,\n",
       "  0.1752198338508606],\n",
       " 'val_accuracy': [0.8967106938362122,\n",
       "  0.9138970971107483,\n",
       "  0.9469610452651978,\n",
       "  0.9547006487846375,\n",
       "  0.9569770097732544,\n",
       "  0.9537901282310486,\n",
       "  0.9570339322090149,\n",
       "  0.9514568448066711,\n",
       "  0.9514568448066711,\n",
       "  0.9617573618888855]}"
      ]
     },
     "execution_count": 26,
     "metadata": {},
     "output_type": "execute_result"
    }
   ],
   "source": [
    "training_history.history"
   ]
  },
  {
   "cell_type": "code",
   "execution_count": 27,
   "id": "4350549d",
   "metadata": {},
   "outputs": [],
   "source": [
    "# Recording History in json\n",
    "import json\n",
    "with open(\"training_hist.json\",\"w\") as f:\n",
    "    json.dump(training_history.history,f)"
   ]
  },
  {
   "cell_type": "code",
   "execution_count": 32,
   "id": "f04af814",
   "metadata": {},
   "outputs": [
    {
     "data": {
      "image/png": "[encoded data removed]",
      "text/plain": [
       "<Figure size 432x288 with 1 Axes>"
      ]
     },
     "metadata": {
      "needs_background": "light"
     },
     "output_type": "display_data"
    }
   ],
   "source": [
    "# Accuracy Visualization\n",
    "\n",
    "epochs = [i for i in range(1,11)]\n",
    "plt.plot(epochs, training_history.history['accuracy'],color = 'red', label = 'Training Accuracy')\n",
    "plt.plot(epochs, training_history.history['val_accuracy'],color = 'blue', label = 'validation Accuracy')\n",
    "plt.xlabel(\"No of Epochs\")\n",
    "plt.ylabel(\"Accuracy Result\")\n",
    "plt.title(\"visualization of Accuracy Result\")\n",
    "plt.legend()\n",
    "plt.show()"
   ]
  },
  {
   "cell_type": "markdown",
   "id": "c8bba6e0",
   "metadata": {},
   "source": [
    "# some other metrics for model evaluation"
   ]
  },
  {
   "cell_type": "code",
   "execution_count": 33,
   "id": "2128df33",
   "metadata": {},
   "outputs": [
    {
     "data": {
      "text/plain": [
       "['Apple___Apple_scab',\n",
       " 'Apple___Black_rot',\n",
       " 'Apple___Cedar_apple_rust',\n",
       " 'Apple___healthy',\n",
       " 'Blueberry___healthy',\n",
       " 'Cherry_(including_sour)___Powdery_mildew',\n",
       " 'Cherry_(including_sour)___healthy',\n",
       " 'Corn_(maize)___Cercospora_leaf_spot Gray_leaf_spot',\n",
       " 'Corn_(maize)___Common_rust_',\n",
       " 'Corn_(maize)___Northern_Leaf_Blight',\n",
       " 'Corn_(maize)___healthy',\n",
       " 'Grape___Black_rot',\n",
       " 'Grape___Esca_(Black_Measles)',\n",
       " 'Grape___Leaf_blight_(Isariopsis_Leaf_Spot)',\n",
       " 'Grape___healthy',\n",
       " 'Orange___Haunglongbing_(Citrus_greening)',\n",
       " 'Peach___Bacterial_spot',\n",
       " 'Peach___healthy',\n",
       " 'Pepper,_bell___Bacterial_spot',\n",
       " 'Pepper,_bell___healthy',\n",
       " 'Potato___Early_blight',\n",
       " 'Potato___Late_blight',\n",
       " 'Potato___healthy',\n",
       " 'Raspberry___healthy',\n",
       " 'Soybean___healthy',\n",
       " 'Squash___Powdery_mildew',\n",
       " 'Strawberry___Leaf_scorch',\n",
       " 'Strawberry___healthy',\n",
       " 'Tomato___Bacterial_spot',\n",
       " 'Tomato___Early_blight',\n",
       " 'Tomato___Late_blight',\n",
       " 'Tomato___Leaf_Mold',\n",
       " 'Tomato___Septoria_leaf_spot',\n",
       " 'Tomato___Spider_mites Two-spotted_spider_mite',\n",
       " 'Tomato___Target_Spot',\n",
       " 'Tomato___Tomato_Yellow_Leaf_Curl_Virus',\n",
       " 'Tomato___Tomato_mosaic_virus',\n",
       " 'Tomato___healthy']"
      ]
     },
     "execution_count": 33,
     "metadata": {},
     "output_type": "execute_result"
    }
   ],
   "source": [
    "class_name = validation_set.class_names\n",
    "class_name"
   ]
  },
  {
   "cell_type": "code",
   "execution_count": 34,
   "id": "ef959e80",
   "metadata": {},
   "outputs": [
    {
     "name": "stdout",
     "output_type": "stream",
     "text": [
      "Found 17572 files belonging to 38 classes.\n"
     ]
    }
   ],
   "source": [
    "test_set = tf.keras.utils.image_dataset_from_directory(\n",
    "    'valid',\n",
    "    labels=\"inferred\",\n",
    "    label_mode=\"categorical\",\n",
    "    class_names=None,\n",
    "    color_mode=\"rgb\",\n",
    "    batch_size=32,\n",
    "    image_size=(128, 128),\n",
    "    shuffle=False,\n",
    "    seed=None,\n",
    "    validation_split=None,\n",
    "    subset=None,\n",
    "    interpolation=\"bilinear\",\n",
    "    follow_links=False,\n",
    "    crop_to_aspect_ratio=False\n",
    ")"
   ]
  },
  {
   "cell_type": "code",
   "execution_count": 35,
   "id": "97043891",
   "metadata": {},
   "outputs": [
    {
     "name": "stdout",
     "output_type": "stream",
     "text": [
      "550/550 [==============================] - 253s 458ms/step\n"
     ]
    },
    {
     "data": {
      "text/plain": [
       "array([[9.99999404e-01, 5.51068258e-09, 2.69633067e-14, ...,\n",
       "        6.68895136e-18, 1.91075022e-20, 2.73541995e-17],\n",
       "       [9.99996781e-01, 2.71056848e-08, 3.15779625e-11, ...,\n",
       "        3.71247579e-16, 2.83558530e-15, 4.82071034e-17],\n",
       "       [2.74777994e-04, 1.04469427e-14, 6.58758992e-10, ...,\n",
       "        1.07389738e-19, 7.36798206e-20, 4.70860639e-16],\n",
       "       ...,\n",
       "       [4.16305814e-16, 1.15564977e-19, 5.41591641e-12, ...,\n",
       "        5.80586227e-17, 1.08262296e-13, 1.00000000e+00],\n",
       "       [3.53664928e-15, 9.10945817e-21, 5.85062015e-16, ...,\n",
       "        4.54679378e-17, 1.27014896e-18, 1.00000000e+00],\n",
       "       [4.19946482e-27, 3.62517962e-28, 3.42814929e-24, ...,\n",
       "        5.71994116e-28, 2.73992142e-18, 1.00000000e+00]], dtype=float32)"
      ]
     },
     "execution_count": 35,
     "metadata": {},
     "output_type": "execute_result"
    }
   ],
   "source": [
    "y_pred = model.predict(test_set)\n",
    "y_pred"
   ]
  },
  {
   "cell_type": "code",
   "execution_count": 36,
   "id": "fa1fd378",
   "metadata": {},
   "outputs": [
    {
     "data": {
      "text/plain": [
       "(17572, 38)"
      ]
     },
     "execution_count": 36,
     "metadata": {},
     "output_type": "execute_result"
    }
   ],
   "source": [
    "y_pred.shape"
   ]
  },
  {
   "cell_type": "code",
   "execution_count": 37,
   "id": "16a0a4ea",
   "metadata": {},
   "outputs": [],
   "source": [
    "predicted_categories = tf.argmax(y_pred,axis = 1)"
   ]
  },
  {
   "cell_type": "code",
   "execution_count": 38,
   "id": "b72df8ad",
   "metadata": {},
   "outputs": [
    {
     "data": {
      "text/plain": [
       "<tf.Tensor: shape=(17572,), dtype=int64, numpy=array([ 0,  0, 19, ..., 37, 37, 37], dtype=int64)>"
      ]
     },
     "execution_count": 38,
     "metadata": {},
     "output_type": "execute_result"
    }
   ],
   "source": [
    "predicted_categories"
   ]
  },
  {
   "cell_type": "code",
   "execution_count": 39,
   "id": "3766804a",
   "metadata": {},
   "outputs": [
    {
     "data": {
      "text/plain": [
       "<tf.Tensor: shape=(17572, 38), dtype=float32, numpy=\n",
       "array([[1., 0., 0., ..., 0., 0., 0.],\n",
       "       [1., 0., 0., ..., 0., 0., 0.],\n",
       "       [1., 0., 0., ..., 0., 0., 0.],\n",
       "       ...,\n",
       "       [0., 0., 0., ..., 0., 0., 1.],\n",
       "       [0., 0., 0., ..., 0., 0., 1.],\n",
       "       [0., 0., 0., ..., 0., 0., 1.]], dtype=float32)>"
      ]
     },
     "execution_count": 39,
     "metadata": {},
     "output_type": "execute_result"
    }
   ],
   "source": [
    "true_categories = tf.concat([y for x, y in test_set], axis = 0)\n",
    "true_categories"
   ]
  },
  {
   "cell_type": "code",
   "execution_count": 40,
   "id": "a9d63ac7",
   "metadata": {},
   "outputs": [
    {
     "data": {
      "text/plain": [
       "<tf.Tensor: shape=(17572,), dtype=int64, numpy=array([ 0,  0,  0, ..., 37, 37, 37], dtype=int64)>"
      ]
     },
     "execution_count": 40,
     "metadata": {},
     "output_type": "execute_result"
    }
   ],
   "source": [
    "Y_true = tf.argmax(true_categories, axis= 1)\n",
    "Y_true"
   ]
  },
  {
   "cell_type": "code",
   "execution_count": 43,
   "id": "b9651367",
   "metadata": {},
   "outputs": [],
   "source": [
    "from sklearn.metrics import classification_report,confusion_matrix"
   ]
  },
  {
   "cell_type": "code",
   "execution_count": 42,
   "id": "20d5b9db",
   "metadata": {},
   "outputs": [
    {
     "name": "stdout",
     "output_type": "stream",
     "text": [
      "                                                    precision    recall  f1-score   support\n",
      "\n",
      "                                Apple___Apple_scab       0.99      0.87      0.93       504\n",
      "                                 Apple___Black_rot       0.97      0.99      0.98       497\n",
      "                          Apple___Cedar_apple_rust       0.98      0.93      0.95       440\n",
      "                                   Apple___healthy       0.93      0.97      0.95       502\n",
      "                               Blueberry___healthy       0.97      0.98      0.98       454\n",
      "          Cherry_(including_sour)___Powdery_mildew       0.97      0.99      0.98       421\n",
      "                 Cherry_(including_sour)___healthy       0.93      0.99      0.96       456\n",
      "Corn_(maize)___Cercospora_leaf_spot Gray_leaf_spot       0.92      0.91      0.92       410\n",
      "                       Corn_(maize)___Common_rust_       0.97      1.00      0.99       477\n",
      "               Corn_(maize)___Northern_Leaf_Blight       0.95      0.94      0.94       477\n",
      "                            Corn_(maize)___healthy       1.00      1.00      1.00       465\n",
      "                                 Grape___Black_rot       0.95      0.99      0.97       472\n",
      "                      Grape___Esca_(Black_Measles)       0.99      0.96      0.98       480\n",
      "        Grape___Leaf_blight_(Isariopsis_Leaf_Spot)       0.99      0.99      0.99       430\n",
      "                                   Grape___healthy       0.98      1.00      0.99       423\n",
      "          Orange___Haunglongbing_(Citrus_greening)       0.99      0.99      0.99       503\n",
      "                            Peach___Bacterial_spot       0.95      0.94      0.95       459\n",
      "                                   Peach___healthy       0.98      1.00      0.99       432\n",
      "                     Pepper,_bell___Bacterial_spot       0.94      0.97      0.96       478\n",
      "                            Pepper,_bell___healthy       0.97      0.95      0.96       497\n",
      "                             Potato___Early_blight       0.99      0.96      0.97       485\n",
      "                              Potato___Late_blight       0.97      0.95      0.96       485\n",
      "                                  Potato___healthy       0.99      0.96      0.97       456\n",
      "                               Raspberry___healthy       0.99      1.00      0.99       445\n",
      "                                 Soybean___healthy       0.99      0.96      0.98       505\n",
      "                           Squash___Powdery_mildew       0.97      1.00      0.98       434\n",
      "                          Strawberry___Leaf_scorch       0.98      0.98      0.98       444\n",
      "                              Strawberry___healthy       1.00      0.98      0.99       456\n",
      "                           Tomato___Bacterial_spot       0.98      0.98      0.98       425\n",
      "                             Tomato___Early_blight       0.83      0.95      0.89       480\n",
      "                              Tomato___Late_blight       0.98      0.82      0.89       463\n",
      "                                Tomato___Leaf_Mold       0.97      0.96      0.97       470\n",
      "                       Tomato___Septoria_leaf_spot       0.84      0.92      0.88       436\n",
      "     Tomato___Spider_mites Two-spotted_spider_mite       0.92      0.97      0.95       435\n",
      "                              Tomato___Target_Spot       0.92      0.91      0.91       457\n",
      "            Tomato___Tomato_Yellow_Leaf_Curl_Virus       1.00      0.94      0.97       490\n",
      "                      Tomato___Tomato_mosaic_virus       0.98      0.98      0.98       448\n",
      "                                  Tomato___healthy       0.96      1.00      0.98       481\n",
      "\n",
      "                                          accuracy                           0.96     17572\n",
      "                                         macro avg       0.96      0.96      0.96     17572\n",
      "                                      weighted avg       0.96      0.96      0.96     17572\n",
      "\n"
     ]
    }
   ],
   "source": [
    "print(classification_report(Y_true, predicted_categories, target_names = class_name))"
   ]
  },
  {
   "cell_type": "code",
   "execution_count": 44,
   "id": "65ac0bc4",
   "metadata": {},
   "outputs": [
    {
     "data": {
      "text/plain": [
       "array([[440,  11,   1, ...,   0,   1,   0],\n",
       "       [  0, 492,   0, ...,   0,   0,   0],\n",
       "       [  1,   0, 411, ...,   0,   1,   0],\n",
       "       ...,\n",
       "       [  0,   0,   0, ..., 463,   1,   0],\n",
       "       [  0,   0,   0, ...,   0, 441,   0],\n",
       "       [  0,   0,   1, ...,   0,   0, 479]], dtype=int64)"
      ]
     },
     "execution_count": 44,
     "metadata": {},
     "output_type": "execute_result"
    }
   ],
   "source": [
    "cm = confusion_matrix(Y_true,predicted_categories)\n",
    "cm"
   ]
  },
  {
   "cell_type": "code",
   "execution_count": 48,
   "id": "37646cb2",
   "metadata": {},
   "outputs": [
    {
     "data": {
      "image/png": "[encoded data removed]",
      "text/plain": [
       "<Figure size 2880x2880 with 2 Axes>"
      ]
     },
     "metadata": {
      "needs_background": "light"
     },
     "output_type": "display_data"
    }
   ],
   "source": [
    "plt.figure(figsize = (40,40))\n",
    "sns.heatmap(cm, annot = True)\n",
    "plt.xlabel(\"Predicted Class\" , fontsize = 20)\n",
    "plt.ylabel(\"Actual class\", fontsize = 20)\n",
    "plt.title(\"Plant Disease Prediction confusion Matrix\", fontsize = 25)\n",
    "plt.show()"
   ]
  },
  {
   "cell_type": "code",
   "execution_count": null,
   "id": "10564d80",
   "metadata": {},
   "outputs": [],
   "source": []
  }
 ],
 "metadata": {
  "kernelspec": {
   "display_name": "Python 3 (ipykernel)",
   "language": "python",
   "name": "python3"
  },
  "language_info": {
   "codemirror_mode": {
    "name": "ipython",
    "version": 3
   },
   "file_extension": ".py",
   "mimetype": "text/x-python",
   "name": "python",
   "nbconvert_exporter": "python",
   "pygments_lexer": "ipython3",
   "version": "3.9.12"
  }
 },
 "nbformat": 4,
 "nbformat_minor": 5
}
